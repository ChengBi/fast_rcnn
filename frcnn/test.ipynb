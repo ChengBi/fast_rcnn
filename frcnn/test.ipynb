{
 "cells": [
  {
   "cell_type": "code",
   "execution_count": 1,
   "metadata": {},
   "outputs": [],
   "source": [
    "from frcnn.dataset.feeder import VOCFeeder\n",
    "from frcnn.configs.hparams import hparams\n",
    "import tensorflow as tf\n",
    "import matplotlib.pyplot as plt\n",
    "from frcnn.models.components import VGG16\n",
    "\n",
    "%matplotlib inline\n"
   ]
  },
  {
   "cell_type": "code",
   "execution_count": 2,
   "metadata": {
    "scrolled": true
   },
   "outputs": [
    {
     "name": "stderr",
     "output_type": "stream",
     "text": [
      "\u001b[1;34;40m+--------------------------------------------------------------------------------------------------------------------------------------------------------+\u001b[0m\n",
      "\u001b[1;34;40m|                                                               __     __  _____    _____                                                                |\u001b[0m\n",
      "\u001b[1;34;40m|                                                              | |    / / / ___ \\  / ___ \\                                                               |\u001b[0m\n",
      "\u001b[1;34;40m|                                                              | |   / / / /  /_/ / /  /_/                                                               |\u001b[0m\n",
      "\u001b[1;34;40m|                                                              | |  / / / / ____ / / ____                                                                |\u001b[0m\n",
      "\u001b[1;34;40m|                                                              | | / / / / /  _// / /  _/                                                                |\u001b[0m\n",
      "\u001b[1;34;40m|                                                              | |/ / / /__/ / / /__/ /                                                                  |\u001b[0m\n",
      "\u001b[1;34;40m|                                                              |___/  \\_____/  \\_____/                                                                   |\u001b[0m\n",
      "\u001b[1;34;40m+--------------------------------------------------------------------------------------------------------------------------------------------------------+\u001b[0m\n",
      "\u001b[1;34;40m|                                     stack_conv_1/conv_1: <frcnn.models.modules.Conv2D3x3 object at 0x7f48115e7c50>                                     |\u001b[0m\n",
      "\u001b[1;34;40m|                                     stack_conv_1/conv_2: <frcnn.models.modules.Conv2D3x3 object at 0x7f48115e78d0>                                     |\u001b[0m\n",
      "\u001b[1;34;40m|                                 stack_conv_1/maxpooling: <frcnn.models.modules.MaxPooling2D object at 0x7f48115e7668>                                  |\u001b[0m\n",
      "\u001b[1;34;40m|                                     stack_conv_2/conv_1: <frcnn.models.modules.Conv2D3x3 object at 0x7f481183c898>                                     |\u001b[0m\n",
      "\u001b[1;34;40m|                                     stack_conv_2/conv_2: <frcnn.models.modules.Conv2D3x3 object at 0x7f481183ca20>                                     |\u001b[0m\n",
      "\u001b[1;34;40m|                                 stack_conv_2/maxpooling: <frcnn.models.modules.MaxPooling2D object at 0x7f48115e7978>                                  |\u001b[0m\n",
      "\u001b[1;34;40m|                                     stack_conv_3/conv_1: <frcnn.models.modules.Conv2D3x3 object at 0x7f4811852978>                                     |\u001b[0m\n",
      "\u001b[1;34;40m|                                     stack_conv_3/conv_2: <frcnn.models.modules.Conv2D3x3 object at 0x7f48115e7748>                                     |\u001b[0m\n",
      "\u001b[1;34;40m|                                     stack_conv_3/conv_3: <frcnn.models.modules.Conv2D3x3 object at 0x7f48117f27f0>                                     |\u001b[0m\n",
      "\u001b[1;34;40m|                                 stack_conv_3/maxpooling: <frcnn.models.modules.MaxPooling2D object at 0x7f481183cac8>                                  |\u001b[0m\n",
      "\u001b[1;34;40m|                                     stack_conv_4/conv_1: <frcnn.models.modules.Conv2D3x3 object at 0x7f48117a97b8>                                     |\u001b[0m\n",
      "\u001b[1;34;40m|                                     stack_conv_4/conv_2: <frcnn.models.modules.Conv2D3x3 object at 0x7f48117a9668>                                     |\u001b[0m\n",
      "\u001b[1;34;40m|                                     stack_conv_4/conv_3: <frcnn.models.modules.Conv2D3x3 object at 0x7f48117c3ba8>                                     |\u001b[0m\n",
      "\u001b[1;34;40m|                                 stack_conv_4/maxpooling: <frcnn.models.modules.MaxPooling2D object at 0x7f4811852b38>                                  |\u001b[0m\n",
      "\u001b[1;34;40m|                                     stack_conv_5/conv_1: <frcnn.models.modules.Conv2D3x3 object at 0x7f4811775588>                                     |\u001b[0m\n",
      "\u001b[1;34;40m|                                     stack_conv_5/conv_2: <frcnn.models.modules.Conv2D3x3 object at 0x7f4811775668>                                     |\u001b[0m\n",
      "\u001b[1;34;40m|                                     stack_conv_5/conv_3: <frcnn.models.modules.Conv2D3x3 object at 0x7f4811790518>                                     |\u001b[0m\n",
      "\u001b[1;34;40m|                                 stack_conv_5/maxpooling: <frcnn.models.modules.MaxPooling2D object at 0x7f481180b978>                                  |\u001b[0m\n",
      "\u001b[1;34;40m|                                     stack_dense/dense_6: <frcnn.models.modules.Conv2D7x7 object at 0x7f481183c9b0>                                     |\u001b[0m\n",
      "\u001b[1;34;40m|                                     stack_dense/dense_7: <frcnn.models.modules.Conv2D1x1 object at 0x7f48117df3c8>                                     |\u001b[0m\n",
      "\u001b[1;34;40m|                                     stack_dense/dense_8: <frcnn.models.modules.Conv2D1x1 object at 0x7f481172af98>                                     |\u001b[0m\n",
      "\u001b[1;34;40m+--------------------------------------------------------------------------------------------------------------------------------------------------------+\u001b[0m\n"
     ]
    },
    {
     "name": "stdout",
     "output_type": "stream",
     "text": [
      "INFO:tensorflow:\u001b[1;34;40m|                                                              Restoring parameters from pretrain/vgg_16.ckpt                                                              |\u001b[0m\n"
     ]
    }
   ],
   "source": [
    "feeder = VOCFeeder(hparams.train_preproc)\n",
    "with tf.Session() as sess:\n",
    "    placeholder = tf.placeholder(tf.float32, (None, None, None, 3))\n",
    "    vgg = VGG16()\n",
    "    output = vgg(placeholder, 'stack_conv_5/conv_3')\n",
    "    vgg.load('pretrain/vgg_16.ckpt', sess)\n",
    "    for i in range(1):\n",
    "        data = feeder._prepare_batch(1)\n",
    "        img = data[0]\n",
    "        out = sess.run([output], feed_dict={placeholder:img})"
   ]
  },
  {
   "cell_type": "code",
   "execution_count": 14,
   "metadata": {},
   "outputs": [
    {
     "data": {
      "text/plain": [
       "<matplotlib.image.AxesImage at 0x7f48084b9400>"
      ]
     },
     "execution_count": 14,
     "metadata": {},
     "output_type": "execute_result"
    },
    {
     "data": {
      "image/png": "[encoded data removed]",
      "text/plain": [
       "<matplotlib.figure.Figure at 0x7f48084f3f60>"
      ]
     },
     "metadata": {},
     "output_type": "display_data"
    }
   ],
   "source": [
    "import numpy as np\n",
    "img = out[0][0]\n",
    "img = np.maxim\n",
    "img = (img - np.min(img)) / (np.max(img) - np.min(img))\n",
    "plt.imshow(img[:, :, :3])"
   ]
  },
  {
   "cell_type": "code",
   "execution_count": null,
   "metadata": {},
   "outputs": [],
   "source": []
  }
 ],
 "metadata": {
  "kernelspec": {
   "display_name": "Python 3",
   "language": "python",
   "name": "python3"
  },
  "language_info": {
   "codemirror_mode": {
    "name": "ipython",
    "version": 3
   },
   "file_extension": ".py",
   "mimetype": "text/x-python",
   "name": "python",
   "nbconvert_exporter": "python",
   "pygments_lexer": "ipython3",
   "version": "3.6.3"
  }
 },
 "nbformat": 4,
 "nbformat_minor": 2
}
